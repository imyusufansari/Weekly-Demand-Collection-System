{
 "cells": [
  {
   "cell_type": "code",
   "execution_count": 1,
   "id": "5916d7bc",
   "metadata": {},
   "outputs": [],
   "source": [
    "import pymongo\n",
    "import pprint\n",
    "import json\n",
    "import warnings\n",
    "warnings.filterwarnings('ignore')"
   ]
  },
  {
   "cell_type": "code",
   "execution_count": 2,
   "id": "568c98fa",
   "metadata": {},
   "outputs": [],
   "source": [
    "client = pymongo.MongoClient('mongodb://localhost:27017')"
   ]
  },
  {
   "cell_type": "code",
   "execution_count": 3,
   "id": "dd83eeb9",
   "metadata": {},
   "outputs": [],
   "source": [
    "Database = client['Sample_DB']"
   ]
  },
  {
   "cell_type": "code",
   "execution_count": 4,
   "id": "48de26c3",
   "metadata": {},
   "outputs": [],
   "source": [
    "Weekly_Demand_Collection = Database.get_collection(\"weekly_demand\")"
   ]
  },
  {
   "cell_type": "code",
   "execution_count": 5,
   "id": "a92996fe",
   "metadata": {},
   "outputs": [],
   "source": [
    "with open(\"weekly_demand.json\") as f:\n",
    "    File_Data = json.load(f)"
   ]
  },
  {
   "cell_type": "code",
   "execution_count": 6,
   "id": "d89be572",
   "metadata": {},
   "outputs": [
    {
     "data": {
      "text/plain": [
       "456548"
      ]
     },
     "execution_count": 6,
     "metadata": {},
     "output_type": "execute_result"
    }
   ],
   "source": [
    "Weekly_Demand_Collection.insert_many(File_Data)\n",
    "Weekly_Demand_Collection.find().count()"
   ]
  },
  {
   "cell_type": "code",
   "execution_count": 7,
   "id": "81b33107",
   "metadata": {},
   "outputs": [],
   "source": [
    "Data_With_Id={'id': 1729422,'week': 2,'center_id': 50,'meal_id': 1923,'checkout_price': 146.83,\n",
    " 'base_price': 122.29,'emailer_for_promotion': 0, 'homepage_featured': 0, 'num_orders': 117}"
   ]
  },
  {
   "cell_type": "code",
   "execution_count": 8,
   "id": "87ffbe34",
   "metadata": {},
   "outputs": [
    {
     "data": {
      "text/plain": [
       "456549"
      ]
     },
     "execution_count": 8,
     "metadata": {},
     "output_type": "execute_result"
    }
   ],
   "source": [
    "Weekly_Demand_Collection.insert_one(Data_With_Id)\n",
    "Weekly_Demand_Collection.find().count()"
   ]
  },
  {
   "cell_type": "code",
   "execution_count": 9,
   "id": "d524b954",
   "metadata": {},
   "outputs": [
    {
     "name": "stdout",
     "output_type": "stream",
     "text": [
      "{'_id': ObjectId('60e7f15720d4df3b512960d9'), 'id': 1729422, 'week': 2, 'center_id': 50, 'meal_id': 1923, 'checkout_price': 146.83, 'base_price': 122.29, 'emailer_for_promotion': 0, 'homepage_featured': 0, 'num_orders': 117}\n"
     ]
    }
   ],
   "source": [
    "Find_Details= Weekly_Demand_Collection.find({\"id\":1729422})\n",
    "for i in Find_Details:\n",
    "    print(i)"
   ]
  },
  {
   "cell_type": "code",
   "execution_count": 10,
   "id": "9ecb643a",
   "metadata": {},
   "outputs": [],
   "source": [
    "Data_With_Id=[{'id': 1253588,'week': 1,'center_id': 34,'meal_id': 1933,'checkout_price': 126.83,\n",
    " 'base_price': 143.32,'emailer_for_promotion': 0, 'homepage_featured': 0, 'num_orders': 147},\n",
    "            {'id': 1535438,'week': 4,'center_id': 72,'meal_id': 1994,'checkout_price': 185.03,\n",
    " 'base_price': 167.32,'emailer_for_promotion': 0, 'homepage_featured': 0, 'num_orders': 132},\n",
    "            {'id': 1463533,'week': 6,'center_id': 8,'meal_id': 1935,'checkout_price': 185.30,\n",
    " 'base_price': 134.32,'emailer_for_promotion': 0, 'homepage_featured': 0, 'num_orders': 165},\n",
    "            {'id': 1747636,'week': 3,'center_id': 43,'meal_id': 1965,'checkout_price': 145.23,\n",
    " 'base_price': 197.32,'emailer_for_promotion': 0, 'homepage_featured': 0, 'num_orders': 142}]"
   ]
  },
  {
   "cell_type": "code",
   "execution_count": 11,
   "id": "a9606509",
   "metadata": {
    "scrolled": true
   },
   "outputs": [
    {
     "name": "stdout",
     "output_type": "stream",
     "text": [
      "60e7f15820d4df3b512960da\n",
      "60e7f15820d4df3b512960db\n",
      "60e7f15820d4df3b512960dc\n",
      "60e7f15820d4df3b512960dd\n"
     ]
    }
   ],
   "source": [
    "ID_Documents=Weekly_Demand_Collection.insert_many(Data_With_Id)\n",
    "Inserted_IDs=ID_Documents.inserted_ids\n",
    "for i in Inserted_IDs:\n",
    "    print(i)"
   ]
  },
  {
   "cell_type": "code",
   "execution_count": 12,
   "id": "686e470c",
   "metadata": {},
   "outputs": [
    {
     "data": {
      "text/plain": [
       "<pymongo.cursor.Cursor at 0x190f4e7d850>"
      ]
     },
     "execution_count": 12,
     "metadata": {},
     "output_type": "execute_result"
    }
   ],
   "source": [
    "Weekly_Demand_Collection.find().limit(5)"
   ]
  },
  {
   "cell_type": "code",
   "execution_count": 17,
   "id": "b75e6632",
   "metadata": {},
   "outputs": [
    {
     "name": "stdout",
     "output_type": "stream",
     "text": [
      "{'_id': ObjectId('60e7f15720d4df3b512960d9'), 'id': 1729422, 'week': 4, 'center_id': 50, 'meal_id': 1923, 'checkout_price': 146.83, 'base_price': 122.29, 'emailer_for_promotion': 0, 'homepage_featured': 0, 'num_orders': 117}\n"
     ]
    }
   ],
   "source": [
    "Weekly_Demand_Collection.update_one({\"id\":1729422},{\"$set\" : {\"week\":4}})\n",
    "Find_Details= Weekly_Demand_Collection.find({\"id\":1729422})\n",
    "for i in Find_Details:\n",
    "    print(i)"
   ]
  },
  {
   "cell_type": "code",
   "execution_count": 18,
   "id": "388b3649",
   "metadata": {},
   "outputs": [
    {
     "data": {
      "text/plain": [
       "<pymongo.results.DeleteResult at 0x190e1996440>"
      ]
     },
     "execution_count": 18,
     "metadata": {},
     "output_type": "execute_result"
    }
   ],
   "source": [
    "Weekly_Demand_Collection.delete_one({\"id\":1729422})"
   ]
  },
  {
   "cell_type": "code",
   "execution_count": 26,
   "id": "bf15e96a",
   "metadata": {},
   "outputs": [
    {
     "name": "stdout",
     "output_type": "stream",
     "text": [
      "{'_id': ObjectId('60e7f13a20d4df3b51238206'), 'id': 1253588, 'week': 1, 'center_id': 34, 'meal_id': 1933, 'checkout_price': 484.03, 'base_price': 485.03, 'emailer_for_promotion': 0, 'homepage_featured': 0, 'num_orders': 15}\n",
      "{'_id': ObjectId('60e7f15820d4df3b512960da'), 'id': 1253588, 'week': 1, 'center_id': 34, 'meal_id': 1933, 'checkout_price': 126.83, 'base_price': 143.32, 'emailer_for_promotion': 0, 'homepage_featured': 0, 'num_orders': 147}\n"
     ]
    }
   ],
   "source": [
    "Weekly_Demand_Collection.update_many({\"id\":1253588},{\"$set\" : {'week': 1,'center_id': 34,'meal_id': 1933}})\n",
    "Find_Details= Weekly_Demand_Collection.find({\"id\":1253588})\n",
    "for i in Find_Details:\n",
    "    print(i)"
   ]
  },
  {
   "cell_type": "code",
   "execution_count": 27,
   "id": "81a364af",
   "metadata": {},
   "outputs": [],
   "source": [
    "ID_details= Weekly_Demand_Collection.find({\"id\":1729422})\n",
    "for i in ID_details:\n",
    "    print(i)"
   ]
  },
  {
   "cell_type": "code",
   "execution_count": 28,
   "id": "cee81905",
   "metadata": {},
   "outputs": [
    {
     "data": {
      "text/plain": [
       "456551"
      ]
     },
     "execution_count": 28,
     "metadata": {},
     "output_type": "execute_result"
    }
   ],
   "source": [
    "Weekly_Demand_Collection.delete_many({\"id\":1253588,\"id\":1747636,\"id\":1535438,\"id\": 1463533})\n",
    "Weekly_Demand_Collection.find().count()"
   ]
  },
  {
   "cell_type": "code",
   "execution_count": 29,
   "id": "d0f27c06",
   "metadata": {},
   "outputs": [],
   "source": [
    "ID_Details= Weekly_Demand_Collection.find({\"id\":1253588,\"id\":1747636,\"id\":1535438,\"id\": 1463533})\n",
    "for i in ID_Details:\n",
    "    print(i)"
   ]
  },
  {
   "cell_type": "code",
   "execution_count": null,
   "id": "77dc8f90",
   "metadata": {},
   "outputs": [],
   "source": []
  },
  {
   "cell_type": "code",
   "execution_count": null,
   "id": "513226cd",
   "metadata": {},
   "outputs": [],
   "source": []
  },
  {
   "cell_type": "code",
   "execution_count": null,
   "id": "d15e3ac3",
   "metadata": {},
   "outputs": [],
   "source": []
  }
 ],
 "metadata": {
  "kernelspec": {
   "display_name": "Python 3",
   "language": "python",
   "name": "python3"
  },
  "language_info": {
   "codemirror_mode": {
    "name": "ipython",
    "version": 3
   },
   "file_extension": ".py",
   "mimetype": "text/x-python",
   "name": "python",
   "nbconvert_exporter": "python",
   "pygments_lexer": "ipython3",
   "version": "3.8.8"
  }
 },
 "nbformat": 4,
 "nbformat_minor": 5
}
